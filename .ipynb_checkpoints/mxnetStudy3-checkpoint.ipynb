{
 "cells": [
  {
   "cell_type": "code",
   "execution_count": 1,
   "metadata": {
    "collapsed": false
   },
   "outputs": [],
   "source": [
    "%matplotlib inline\n",
    "import mxnet as mx\n",
    "import numpy as np"
   ]
  },
  {
   "cell_type": "code",
   "execution_count": 2,
   "metadata": {
    "collapsed": true
   },
   "outputs": [],
   "source": [
    "data = mx.sym.Variable('data')\n",
    "label = mx.sym.Variable('softmax_label')"
   ]
  },
  {
   "cell_type": "code",
   "execution_count": 3,
   "metadata": {
    "collapsed": true
   },
   "outputs": [],
   "source": [
    "w1 = mx.sym.Variable('weight1')\n",
    "b1 = mx.sym.Variable('bias1')\n",
    "l1 = mx.sym.FullyConnected(data=data, num_hidden=128, name='layer1', weight=w1, bias=b1)\n",
    "a1 = mx.sym.Activation(data=l1, act_type='relu', name='act1')"
   ]
  },
  {
   "cell_type": "code",
   "execution_count": 4,
   "metadata": {
    "collapsed": true
   },
   "outputs": [],
   "source": [
    "l2 = mx.sym.FullyConnected(data=a1, num_hidden=10, name='layer2')\n",
    "cost_classification = mx.sym.SoftmaxOutput(data=l2, label=label)"
   ]
  },
  {
   "cell_type": "code",
   "execution_count": 5,
   "metadata": {
    "collapsed": false
   },
   "outputs": [],
   "source": [
    "batch_size = 128\n",
    "input_shapes  ={'data':(batch_size, 28*28), 'softmax_label':(batch_size,)}\n",
    "executor = cost_classification.simple_bind(\n",
    "    ctx = mx.gpu(),\n",
    "    grad_req = 'write',\n",
    "    **input_shapes\n",
    ")"
   ]
  },
  {
   "cell_type": "code",
   "execution_count": 6,
   "metadata": {
    "collapsed": true
   },
   "outputs": [],
   "source": [
    "executor_test = cost_classification.bind(\n",
    "    ctx = mx.gpu(),\n",
    "    grad_req = 'null',\n",
    "    args = executor.arg_arrays\n",
    ")"
   ]
  },
  {
   "cell_type": "code",
   "execution_count": 7,
   "metadata": {
    "collapsed": true
   },
   "outputs": [],
   "source": [
    "for r in executor.arg_arrays:\n",
    "    r[:] = np.random.randn(*r.shape)*0.02"
   ]
  },
  {
   "cell_type": "code",
   "execution_count": 8,
   "metadata": {
    "collapsed": false
   },
   "outputs": [],
   "source": [
    "from skdata.mnist.view import OfficialVectorClassification"
   ]
  },
  {
   "cell_type": "code",
   "execution_count": 9,
   "metadata": {
    "collapsed": false
   },
   "outputs": [],
   "source": [
    "data = OfficialVectorClassification()\n",
    "trIdx = data.sel_idxs[:]\n",
    "teIdx = data.val_idxs[:]"
   ]
  },
  {
   "cell_type": "code",
   "execution_count": 10,
   "metadata": {
    "collapsed": false
   },
   "outputs": [
    {
     "name": "stdout",
     "output_type": "stream",
     "text": [
      "[    0     1     2 ..., 59997 59998 59999] [50000 50001 50002 ..., 59997 59998 59999]\n"
     ]
    }
   ],
   "source": [
    "print trIdx, teIdx\n",
    "#np.random.shuffle(trIdx)\n",
    "#print trIdx"
   ]
  },
  {
   "cell_type": "markdown",
   "metadata": {},
   "source": [
    "注意，下边训练过程中，除255一定要除255.，否则会导致一个问题，就是结果不是浮点数而是整数，最终拟合结果会非常差"
   ]
  },
  {
   "cell_type": "code",
   "execution_count": 13,
   "metadata": {
    "collapsed": false
   },
   "outputs": [
    {
     "name": "stdout",
     "output_type": "stream",
     "text": [
      " Start epoch 0\n",
      "Accuracy thus far: 0.949819711538\n",
      "Start epoch 1\n",
      "Accuracy thus far: 0.959635416667\n",
      "Start epoch 2\n",
      "Accuracy thus far: 0.963541666667\n",
      "Start epoch 3\n",
      "Accuracy thus far: 0.969651442308\n",
      "Start epoch 4\n",
      "Accuracy thus far: 0.972355769231\n",
      "Start epoch 5\n",
      "Accuracy thus far: 0.975060096154\n",
      "Start epoch 6\n",
      "Accuracy thus far: 0.977864583333\n",
      "Start epoch 7\n",
      "Accuracy thus far: 0.978265224359\n",
      "Start epoch 8\n",
      "Accuracy thus far: 0.981470352564\n",
      "Start epoch 9\n",
      "Accuracy thus far: 0.982772435897\n"
     ]
    }
   ],
   "source": [
    "for epoch in range(10):\n",
    "    print  \"Start epoch\", epoch\n",
    "    np.random.shuffle(trIdx)\n",
    "    \n",
    "    for x in range(0, len(trIdx), batch_size):\n",
    "        batchX = data.all_vectors[trIdx[x:x+batch_size]]\n",
    "        batchY = data.all_labels[trIdx[x:x+batch_size]]\n",
    "        \n",
    "        if batchX.shape[0] != batch_size:\n",
    "            continue\n",
    "        executor.arg_dict['data'][:] = batchX/255.\n",
    "        executor.arg_dict['softmax_label'][:] = batchY\n",
    "        executor.forward(is_train=True)\n",
    "        executor.backward()\n",
    "        \n",
    "        for pname, W, G in zip(cost_classification.list_arguments(), executor.arg_arrays, executor.grad_arrays):\n",
    "            if pname in ['data', 'softmax_label']:\n",
    "                continue\n",
    "            W[:] = W - G * .001 \n",
    "        \n",
    "    num_correct = 0\n",
    "    num_total = 0\n",
    "    for i in range(0, len(teIdx), batch_size):\n",
    "        batchTX = data.all_vectors[teIdx[i:i+batch_size]]\n",
    "        batchTY = data.all_labels[teIdx[i:i+batch_size]]\n",
    "\n",
    "        if batchTX.shape[0] != batch_size:\n",
    "            continue\n",
    "        executor_test.arg_dict['data'][:] = batchTX/255.\n",
    "        executor_test.forward()\n",
    "        num_correct += sum(batchTY == np.argmax(executor_test.outputs[0].asnumpy(), axis=1))\n",
    "        num_total += len(batchTY)\n",
    "    print 'Accuracy thus far:', num_correct / float(num_total)"
   ]
  }
 ],
 "metadata": {
  "kernelspec": {
   "display_name": "Python 2",
   "language": "python",
   "name": "python2"
  },
  "language_info": {
   "codemirror_mode": {
    "name": "ipython",
    "version": 2
   },
   "file_extension": ".py",
   "mimetype": "text/x-python",
   "name": "python",
   "nbconvert_exporter": "python",
   "pygments_lexer": "ipython2",
   "version": "2.7.13"
  }
 },
 "nbformat": 4,
 "nbformat_minor": 2
}
