{
 "cells": [
  {
   "cell_type": "code",
   "execution_count": 1,
   "metadata": {
    "collapsed": true
   },
   "outputs": [],
   "source": [
    "%matplotlib inline\n",
    "import mxnet as mx\n",
    "import numpy as np"
   ]
  },
  {
   "cell_type": "markdown",
   "metadata": {},
   "source": [
    "Imperative\n",
    "The basic building block for the imperative API is an NDArray. Much like Numpy, this object holds a tensor (or multi-dimensional array). Unlike Numpy, this object also stores a pointer to where the memory is held (CPU or GPU)."
   ]
  },
  {
   "cell_type": "code",
   "execution_count": 2,
   "metadata": {
    "collapsed": true
   },
   "outputs": [],
   "source": [
    "cpu_tensor = mx.nd.zeros((10,), ctx=mx.cpu())\n",
    "gpu_tensor = mx.nd.zeros((10,), ctx=mx.gpu())"
   ]
  },
  {
   "cell_type": "code",
   "execution_count": 3,
   "metadata": {
    "collapsed": false
   },
   "outputs": [
    {
     "name": "stdout",
     "output_type": "stream",
     "text": [
      "[ 1.  1.  1.  1.  1.  1.  1.  1.  1.  1.] [ 1.  1.  1.  1.  1.  1.  1.  1.  1.  1.] [ 3.  3.  3.  3.  3.  3.  3.  3.  3.  3.] [ 4.  4.  4.  4.  4.  4.  4.  4.  4.  4.]\n"
     ]
    }
   ],
   "source": [
    "ctx = mx.gpu()\n",
    "a = mx.nd.ones((10,), ctx=ctx)\n",
    "b = mx.nd.ones((10,), ctx=ctx)\n",
    "c = (a*5 + b) / 2\n",
    "d = c + 1\n",
    "print a.asnumpy(), b.asnumpy(), c.asnumpy(), d.asnumpy()"
   ]
  },
  {
   "cell_type": "markdown",
   "metadata": {},
   "source": [
    "Symbolic\n",
    "While the imperative API is extremely powerful by itself, it is often very rigid and hard to prototype with. Everything must be known about the computation ahead of time, and must be written out by the user. The symbolic API tries to remedy this. Instead of working with defined arrays, you work with symbols that can be “compiled” or interpreted to a executable set of operations."
   ]
  },
  {
   "cell_type": "code",
   "execution_count": 4,
   "metadata": {
    "collapsed": false
   },
   "outputs": [
    {
     "name": "stdout",
     "output_type": "stream",
     "text": [
      "['A', 'B']\n",
      "['_plusscalar0_output']\n"
     ]
    }
   ],
   "source": [
    "a1 = mx.sym.Variable('A')\n",
    "b1 = mx.sym.Variable('B')\n",
    "c1 = (a1*5 + b1) / 2\n",
    "d1 = c1 + 1\n",
    "print d1.list_arguments()\n",
    "print d1.list_outputs()"
   ]
  },
  {
   "cell_type": "code",
   "execution_count": 5,
   "metadata": {
    "collapsed": false
   },
   "outputs": [
    {
     "name": "stdout",
     "output_type": "stream",
     "text": [
      "[(10L,), (10L,)] [(10L,)] []\n"
     ]
    }
   ],
   "source": [
    "input_shapes = {'A':(10,), 'B':(10,)}\n",
    "arg_shape, out_shape, aux_shape = d1.infer_shape(**input_shapes)\n",
    "print arg_shape, out_shape, aux_shape"
   ]
  },
  {
   "cell_type": "code",
   "execution_count": 6,
   "metadata": {
    "collapsed": true
   },
   "outputs": [],
   "source": [
    "input_arguments = {}\n",
    "input_arguments['A'] = mx.nd.ones((10,), ctx=ctx)\n",
    "input_arguments['B'] = mx.nd.ones((10,), ctx=ctx)\n",
    "executor = d1.bind(\n",
    "    ctx = ctx,\n",
    "    args = input_arguments,\n",
    "    grad_req = 'null'\n",
    ")"
   ]
  },
  {
   "cell_type": "code",
   "execution_count": 7,
   "metadata": {
    "collapsed": false
   },
   "outputs": [
    {
     "data": {
      "text/plain": [
       "{'A': <NDArray 10 @gpu(0)>, 'B': <NDArray 10 @gpu(0)>}"
      ]
     },
     "execution_count": 7,
     "metadata": {},
     "output_type": "execute_result"
    }
   ],
   "source": [
    "executor.arg_dict"
   ]
  },
  {
   "cell_type": "code",
   "execution_count": 11,
   "metadata": {
    "collapsed": false
   },
   "outputs": [
    {
     "data": {
      "text/plain": [
       "array([ 2.60857749,  2.92020893,  3.51389575,  2.54067516,  2.88675952,\n",
       "        3.11647558,  1.49772048,  3.15574646,  2.55480313,  3.22973537], dtype=float32)"
      ]
     },
     "execution_count": 11,
     "metadata": {},
     "output_type": "execute_result"
    }
   ],
   "source": [
    "executor.arg_dict['A'][:] = np.random.rand(10,)\n",
    "executor.arg_dict['B'][:] = np.random.rand(10,)\n",
    "executor.forward()\n",
    "executor.outputs[0].asnumpy()"
   ]
  },
  {
   "cell_type": "code",
   "execution_count": 12,
   "metadata": {
    "collapsed": true
   },
   "outputs": [],
   "source": [
    "grad_arguments = {}\n",
    "grad_arguments['A'] = mx.nd.ones((10,), ctx=ctx)\n",
    "grad_arguments['B'] = mx.nd.ones((10,), ctx=ctx)\n",
    "executor = d1.bind(\n",
    "    ctx = ctx,\n",
    "    args = input_arguments,\n",
    "    args_grad = grad_arguments,\n",
    "    grad_req = 'write'\n",
    ")"
   ]
  },
  {
   "cell_type": "code",
   "execution_count": 15,
   "metadata": {
    "collapsed": false
   },
   "outputs": [
    {
     "data": {
      "text/plain": [
       "{'A': <NDArray 10 @gpu(0)>, 'B': <NDArray 10 @gpu(0)>}"
      ]
     },
     "execution_count": 15,
     "metadata": {},
     "output_type": "execute_result"
    }
   ],
   "source": [
    "executor.arg_dict"
   ]
  },
  {
   "cell_type": "code",
   "execution_count": 17,
   "metadata": {
    "collapsed": false
   },
   "outputs": [],
   "source": [
    "executor.forward(is_train=True)\n",
    "out_grad = mx.nd.ones((10,), ctx=ctx)\n",
    "#这部分每太看懂什么意思，文档解释如下\n",
    "# in this particular example, the output symbol is not a scalar or loss symbol.\n",
    "# Thus taking its gradient is not possible.\n",
    "# What is commonly done instead is to feed in the gradient from a future computation.\n",
    "# this is essentially how backpropagation works.\n",
    "executor.backward([out_grad])"
   ]
  },
  {
   "cell_type": "code",
   "execution_count": 23,
   "metadata": {
    "collapsed": false
   },
   "outputs": [
    {
     "name": "stdout",
     "output_type": "stream",
     "text": [
      "[ 2.5  2.5  2.5  2.5  2.5  2.5  2.5  2.5  2.5  2.5]\n",
      "[ 0.5  0.5  0.5  0.5  0.5  0.5  0.5  0.5  0.5  0.5]\n"
     ]
    }
   ],
   "source": [
    "print executor.grad_arrays[0].asnumpy()\n",
    "print executor.grad_arrays[1].asnumpy()"
   ]
  }
 ],
 "metadata": {
  "kernelspec": {
   "display_name": "Python 2",
   "language": "python",
   "name": "python2"
  },
  "language_info": {
   "codemirror_mode": {
    "name": "ipython",
    "version": 2
   },
   "file_extension": ".py",
   "mimetype": "text/x-python",
   "name": "python",
   "nbconvert_exporter": "python",
   "pygments_lexer": "ipython2",
   "version": "2.7.13"
  }
 },
 "nbformat": 4,
 "nbformat_minor": 2
}
