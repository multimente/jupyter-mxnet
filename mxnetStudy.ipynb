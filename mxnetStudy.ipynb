{
 "cells": [
  {
   "cell_type": "code",
   "execution_count": 44,
   "metadata": {
    "collapsed": true
   },
   "outputs": [],
   "source": [
    "%matplotlib inline\n",
    "import mxnet as mx\n",
    "import numpy as np\n",
    "import matplotlib.pyplot as plt"
   ]
  },
  {
   "cell_type": "code",
   "execution_count": 45,
   "metadata": {
    "collapsed": false
   },
   "outputs": [],
   "source": [
    "a = mx.nd.empty((2,3))\n",
    "b = mx.nd.empty((2,3), mx.gpu(0))"
   ]
  },
  {
   "cell_type": "code",
   "execution_count": 46,
   "metadata": {
    "collapsed": false
   },
   "outputs": [
    {
     "name": "stdout",
     "output_type": "stream",
     "text": [
      "(2L, 3L)\n",
      "gpu(0)\n"
     ]
    }
   ],
   "source": [
    "print b.shape\n",
    "print b.context"
   ]
  },
  {
   "cell_type": "code",
   "execution_count": 47,
   "metadata": {
    "collapsed": true
   },
   "outputs": [],
   "source": [
    "X = np.linspace(-1,1,100)\n",
    "noise = np.random.normal(0,0.5,100)\n",
    "Y = 5 * X + noise"
   ]
  },
  {
   "cell_type": "code",
   "execution_count": 48,
   "metadata": {
    "collapsed": false
   },
   "outputs": [
    {
     "data": {
      "text/plain": [
       "<matplotlib.collections.PathCollection at 0x7f7cedf7f190>"
      ]
     },
     "execution_count": 48,
     "metadata": {},
     "output_type": "execute_result"
    },
    {
     "data": {
      "image/png": "[encoded data removed]",
      "text/plain": [
       "<matplotlib.figure.Figure at 0x7f7cff8e8190>"
      ]
     },
     "metadata": {},
     "output_type": "display_data"
    }
   ],
   "source": [
    "fig = plt.figure()\n",
    "ax = fig.add_subplot(1,1,1)\n",
    "ax.scatter(X,Y)"
   ]
  },
  {
   "cell_type": "markdown",
   "metadata": {},
   "source": [
    "注意，这里的名字不能乱起，data和softmax必须这么写，一开始写成softmax出错了"
   ]
  },
  {
   "cell_type": "code",
   "execution_count": 49,
   "metadata": {
    "collapsed": true
   },
   "outputs": [],
   "source": [
    "X_in = mx.symbol.Variable('data')\n",
    "Y_out = mx.symbol.Variable('softmax_label')\n",
    "net = mx.symbol.FullyConnected(data=X_in, num_hidden=1, name='pre')\n",
    "loss = mx.symbol.LinearRegressionOutput(data=net, label=Y_out, name='loss')"
   ]
  },
  {
   "cell_type": "markdown",
   "metadata": {},
   "source": [
    "这里的参数data_names和label_names同理，名字不可以乱起，而且这两个参数必须有"
   ]
  },
  {
   "cell_type": "code",
   "execution_count": 50,
   "metadata": {
    "collapsed": false
   },
   "outputs": [],
   "source": [
    "model = mx.mod.Module(\n",
    "    context = mx.gpu(0),\n",
    "    symbol = loss,\n",
    "    data_names = ['data'],\n",
    "    label_names = ['softmax_label']\n",
    ")"
   ]
  },
  {
   "cell_type": "code",
   "execution_count": 51,
   "metadata": {
    "collapsed": true
   },
   "outputs": [],
   "source": [
    "batch_size = 1\n",
    "test_nums = [np.random.randint(100) for _ in range(20)]\n",
    "train_nums = [i for i in range(100) if i not in test_nums]\n",
    "train_iter = mx.io.NDArrayIter(X[train_nums], Y[train_nums], batch_size=batch_size)\n",
    "test_iter  = mx.io.NDArrayIter(X[test_nums],  Y[test_nums],  batch_size=batch_size)"
   ]
  },
  {
   "cell_type": "markdown",
   "metadata": {},
   "source": [
    "注意，fit必须前两个参数必须是iter类型的参数，不能是numpy array类型的"
   ]
  },
  {
   "cell_type": "code",
   "execution_count": 52,
   "metadata": {
    "collapsed": false
   },
   "outputs": [],
   "source": [
    "model.fit(\n",
    "    train_iter,\n",
    "    test_iter,\n",
    "    optimizer = 'sgd',\n",
    "    num_epoch = 100,\n",
    "    optimizer_params = {'learning_rate':0.1, 'momentum':0.9, 'wd':0.00001},\n",
    ")"
   ]
  },
  {
   "cell_type": "code",
   "execution_count": 53,
   "metadata": {
    "collapsed": false
   },
   "outputs": [],
   "source": [
    "prediction = model.predict(eval_data=train_iter)\n",
    "line = ax.plot(X[train_nums], prediction.asnumpy(), 'r-', lw=5)"
   ]
  },
  {
   "cell_type": "code",
   "execution_count": 58,
   "metadata": {
    "collapsed": false
   },
   "outputs": [
    {
     "name": "stdout",
     "output_type": "stream",
     "text": [
      "-1.0 [-10.41361332]\n",
      "-0.979797979798 [-10.25194073]\n",
      "-0.959595959596 [-10.09026909]\n",
      "-0.919191919192 [-9.7669239]\n",
      "-0.89898989899 [-9.60525227]\n",
      "-0.878787878788 [-9.44357967]\n",
      "-0.858585858586 [-9.28190708]\n",
      "-0.838383838384 [-9.12023449]\n",
      "-0.818181818182 [-8.9585619]\n",
      "-0.79797979798 [-8.79688931]\n",
      "-0.757575757576 [-8.47354507]\n",
      "-0.717171717172 [-8.15019989]\n",
      "-0.69696969697 [-7.98852825]\n",
      "-0.676767676768 [-7.82685566]\n",
      "-0.656565656566 [-7.66518307]\n",
      "-0.636363636364 [-7.50351048]\n",
      "-0.616161616162 [-7.34183884]\n",
      "-0.59595959596 [-7.18016624]\n",
      "-0.575757575758 [-7.01849365]\n",
      "-0.555555555556 [-6.85682106]\n",
      "-0.535353535354 [-6.69514847]\n",
      "-0.515151515152 [-6.53347588]\n",
      "-0.494949494949 [-6.37180424]\n",
      "-0.454545454545 [-6.04845905]\n",
      "-0.434343434343 [-5.88678694]\n",
      "-0.414141414141 [-5.72511482]\n",
      "-0.393939393939 [-5.56344223]\n",
      "-0.353535353535 [-5.24009705]\n",
      "-0.333333333333 [-5.07842541]\n",
      "-0.292929292929 [-4.75508022]\n",
      "-0.272727272727 [-4.59340763]\n",
      "-0.252525252525 [-4.43173504]\n",
      "-0.232323232323 [-4.27006292]\n",
      "-0.212121212121 [-4.10839081]\n",
      "-0.191919191919 [-3.94671822]\n",
      "-0.171717171717 [-3.7850461]\n",
      "-0.151515151515 [-3.62337351]\n",
      "-0.131313131313 [-3.46170115]\n",
      "-0.111111111111 [-3.3000288]\n",
      "-0.0909090909091 [-3.13835645]\n",
      "-0.0707070707071 [-2.97668409]\n",
      "-0.0505050505051 [-2.81501174]\n",
      "-0.030303030303 [-2.65333939]\n",
      "-0.010101010101 [-2.49166703]\n",
      "0.010101010101 [-2.32999444]\n",
      "0.030303030303 [-2.16832209]\n",
      "0.0505050505051 [-2.00664973]\n",
      "0.0707070707071 [-1.84497738]\n",
      "0.0909090909091 [-1.68330503]\n",
      "0.131313131313 [-1.35996032]\n",
      "0.151515151515 [-1.19828784]\n",
      "0.171717171717 [-1.03661549]\n",
      "0.191919191919 [-0.87494314]\n",
      "0.252525252525 [-0.3899262]\n",
      "0.272727272727 [-0.2282536]\n",
      "0.292929292929 [-0.06658125]\n",
      "0.333333333333 [ 0.2567637]\n",
      "0.353535353535 [ 0.41843581]\n",
      "0.373737373737 [ 0.58010817]\n",
      "0.393939393939 [ 0.74178076]\n",
      "0.414141414141 [ 0.90345311]\n",
      "0.434343434343 [ 1.06512547]\n",
      "0.494949494949 [ 1.55014253]\n",
      "0.515151515152 [ 1.71181464]\n",
      "0.535353535354 [ 1.87348723]\n",
      "0.575757575758 [ 2.19683194]\n",
      "0.59595959596 [ 2.35850453]\n",
      "0.616161616162 [ 2.52017713]\n",
      "0.656565656566 [ 2.84352183]\n",
      "0.676767676768 [ 3.00519395]\n",
      "0.757575757576 [ 3.65188336]\n",
      "0.777777777778 [ 3.81355596]\n",
      "0.838383838384 [ 4.29857349]\n",
      "0.878787878788 [ 4.62191772]\n",
      "0.89898989899 [ 4.78359032]\n",
      "0.919191919192 [ 4.94526196]\n",
      "0.939393939394 [ 5.10693455]\n",
      "0.959595959596 [ 5.26860714]\n",
      "0.979797979798 [ 5.43027973]\n",
      "1.0 [ 5.59195232]\n"
     ]
    }
   ],
   "source": [
    "for i in range(len(train_nums)):\n",
    "    print X[train_nums[i]], prediction.asnumpy()[i]"
   ]
  },
  {
   "cell_type": "markdown",
   "metadata": {},
   "source": [
    "不知道为什么，这条plt.show()显示不出来"
   ]
  },
  {
   "cell_type": "code",
   "execution_count": 59,
   "metadata": {
    "collapsed": true
   },
   "outputs": [],
   "source": [
    "plt.show()"
   ]
  }
 ],
 "metadata": {
  "kernelspec": {
   "display_name": "Python 2",
   "language": "python",
   "name": "python2"
  },
  "language_info": {
   "codemirror_mode": {
    "name": "ipython",
    "version": 2
   },
   "file_extension": ".py",
   "mimetype": "text/x-python",
   "name": "python",
   "nbconvert_exporter": "python",
   "pygments_lexer": "ipython2",
   "version": "2.7.13"
  }
 },
 "nbformat": 4,
 "nbformat_minor": 2
}
